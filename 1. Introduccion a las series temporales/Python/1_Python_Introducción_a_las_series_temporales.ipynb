{
  "nbformat": 4,
  "nbformat_minor": 0,
  "metadata": {
    "kernelspec": {
      "display_name": "Python 3",
      "language": "python",
      "name": "python3"
    },
    "language_info": {
      "codemirror_mode": {
        "name": "ipython",
        "version": 3
      },
      "file_extension": ".py",
      "mimetype": "text/x-python",
      "name": "python",
      "nbconvert_exporter": "python",
      "pygments_lexer": "ipython3",
      "version": "3.6.7"
    },
    "colab": {
      "name": "1. Python - Introducción a las series temporales .ipynb",
      "provenance": [],
      "collapsed_sections": [],
      "toc_visible": true,
      "include_colab_link": true
    }
  },
  "cells": [
    {
      "cell_type": "markdown",
      "metadata": {
        "id": "view-in-github",
        "colab_type": "text"
      },
      "source": [
        "<a href=\"https://colab.research.google.com/github/jdfs03/curso-series-temporales/blob/master/1.%20Introduccion%20a%20las%20series%20temporales/Python/1_Python_Introducci%C3%B3n_a_las_series_temporales.ipynb\" target=\"_parent\"><img src=\"https://colab.research.google.com/assets/colab-badge.svg\" alt=\"Open In Colab\"/></a>"
      ]
    },
    {
      "cell_type": "code",
      "metadata": {
        "id": "c2yqjxGwWe9R"
      },
      "source": [
        "import pandas as pd \n",
        "import numpy as np\n",
        "#import matplotlib.pyplot as plt \n",
        "#import seaborn as sns\n",
        "#sns.set()"
      ],
      "execution_count": 16,
      "outputs": []
    },
    {
      "cell_type": "markdown",
      "metadata": {
        "id": "OBM-5VY7We9Q"
      },
      "source": [
        "### Import the Packages"
      ]
    },
    {
      "cell_type": "markdown",
      "metadata": {
        "id": "CVxwiA8OWe9V"
      },
      "source": [
        "### Importing the Data"
      ]
    },
    {
      "cell_type": "code",
      "metadata": {
        "id": "2aZ4hKJkWe9V"
      },
      "source": [
        "raw_csv_data = pd.read_csv(\"/content/drive/MyDrive/Biblioteca/4. Analítica/Index2018.csv\")"
      ],
      "execution_count": 24,
      "outputs": []
    },
    {
      "cell_type": "code",
      "metadata": {
        "id": "jvS0nEFhWe9Y"
      },
      "source": [
        "df_comp = raw_csv_data.copy()"
      ],
      "execution_count": 25,
      "outputs": []
    },
    {
      "cell_type": "markdown",
      "metadata": {
        "id": "vRP2uEONWe9a"
      },
      "source": [
        "### Examining the Data"
      ]
    },
    {
      "cell_type": "code",
      "metadata": {
        "scrolled": true,
        "id": "llUz-oOOWe9b",
        "colab": {
          "base_uri": "https://localhost:8080/",
          "height": 204
        },
        "outputId": "cac5d0f5-563a-4713-a697-8c74bbd6425f"
      },
      "source": [
        "df_comp.head()"
      ],
      "execution_count": 26,
      "outputs": [
        {
          "output_type": "execute_result",
          "data": {
            "text/html": [
              "<div>\n",
              "<style scoped>\n",
              "    .dataframe tbody tr th:only-of-type {\n",
              "        vertical-align: middle;\n",
              "    }\n",
              "\n",
              "    .dataframe tbody tr th {\n",
              "        vertical-align: top;\n",
              "    }\n",
              "\n",
              "    .dataframe thead th {\n",
              "        text-align: right;\n",
              "    }\n",
              "</style>\n",
              "<table border=\"1\" class=\"dataframe\">\n",
              "  <thead>\n",
              "    <tr style=\"text-align: right;\">\n",
              "      <th></th>\n",
              "      <th>date</th>\n",
              "      <th>spx</th>\n",
              "      <th>dax</th>\n",
              "      <th>ftse</th>\n",
              "      <th>nikkei</th>\n",
              "    </tr>\n",
              "  </thead>\n",
              "  <tbody>\n",
              "    <tr>\n",
              "      <th>0</th>\n",
              "      <td>07/01/1994</td>\n",
              "      <td>469.90</td>\n",
              "      <td>2224.95</td>\n",
              "      <td>3445.98</td>\n",
              "      <td>18124.01</td>\n",
              "    </tr>\n",
              "    <tr>\n",
              "      <th>1</th>\n",
              "      <td>10/01/1994</td>\n",
              "      <td>475.27</td>\n",
              "      <td>2225.00</td>\n",
              "      <td>3440.58</td>\n",
              "      <td>18443.44</td>\n",
              "    </tr>\n",
              "    <tr>\n",
              "      <th>2</th>\n",
              "      <td>11/01/1994</td>\n",
              "      <td>474.13</td>\n",
              "      <td>2228.10</td>\n",
              "      <td>3413.77</td>\n",
              "      <td>18485.25</td>\n",
              "    </tr>\n",
              "    <tr>\n",
              "      <th>3</th>\n",
              "      <td>12/01/1994</td>\n",
              "      <td>474.17</td>\n",
              "      <td>2182.06</td>\n",
              "      <td>3372.02</td>\n",
              "      <td>18793.88</td>\n",
              "    </tr>\n",
              "    <tr>\n",
              "      <th>4</th>\n",
              "      <td>13/01/1994</td>\n",
              "      <td>472.47</td>\n",
              "      <td>2142.37</td>\n",
              "      <td>3360.01</td>\n",
              "      <td>18577.26</td>\n",
              "    </tr>\n",
              "  </tbody>\n",
              "</table>\n",
              "</div>"
            ],
            "text/plain": [
              "         date     spx      dax     ftse    nikkei\n",
              "0  07/01/1994  469.90  2224.95  3445.98  18124.01\n",
              "1  10/01/1994  475.27  2225.00  3440.58  18443.44\n",
              "2  11/01/1994  474.13  2228.10  3413.77  18485.25\n",
              "3  12/01/1994  474.17  2182.06  3372.02  18793.88\n",
              "4  13/01/1994  472.47  2142.37  3360.01  18577.26"
            ]
          },
          "metadata": {
            "tags": []
          },
          "execution_count": 26
        }
      ]
    },
    {
      "cell_type": "code",
      "metadata": {
        "id": "yvRBeKE3We9e",
        "colab": {
          "base_uri": "https://localhost:8080/",
          "height": 419
        },
        "outputId": "d1ec114c-5880-4e56-d32a-83a3f62251ca"
      },
      "source": [
        "df_comp"
      ],
      "execution_count": 21,
      "outputs": [
        {
          "output_type": "execute_result",
          "data": {
            "text/html": [
              "<div>\n",
              "<style scoped>\n",
              "    .dataframe tbody tr th:only-of-type {\n",
              "        vertical-align: middle;\n",
              "    }\n",
              "\n",
              "    .dataframe tbody tr th {\n",
              "        vertical-align: top;\n",
              "    }\n",
              "\n",
              "    .dataframe thead th {\n",
              "        text-align: right;\n",
              "    }\n",
              "</style>\n",
              "<table border=\"1\" class=\"dataframe\">\n",
              "  <thead>\n",
              "    <tr style=\"text-align: right;\">\n",
              "      <th></th>\n",
              "      <th>date</th>\n",
              "      <th>spx</th>\n",
              "      <th>dax</th>\n",
              "      <th>ftse</th>\n",
              "      <th>nikkei</th>\n",
              "    </tr>\n",
              "  </thead>\n",
              "  <tbody>\n",
              "    <tr>\n",
              "      <th>0</th>\n",
              "      <td>07/01/1994</td>\n",
              "      <td>469.900000</td>\n",
              "      <td>2224.95</td>\n",
              "      <td>3445.980000</td>\n",
              "      <td>18124.01</td>\n",
              "    </tr>\n",
              "    <tr>\n",
              "      <th>1</th>\n",
              "      <td>10/01/1994</td>\n",
              "      <td>475.270000</td>\n",
              "      <td>2225.00</td>\n",
              "      <td>3440.580000</td>\n",
              "      <td>18443.44</td>\n",
              "    </tr>\n",
              "    <tr>\n",
              "      <th>2</th>\n",
              "      <td>11/01/1994</td>\n",
              "      <td>474.130000</td>\n",
              "      <td>2228.10</td>\n",
              "      <td>3413.770000</td>\n",
              "      <td>18485.25</td>\n",
              "    </tr>\n",
              "    <tr>\n",
              "      <th>3</th>\n",
              "      <td>12/01/1994</td>\n",
              "      <td>474.170000</td>\n",
              "      <td>2182.06</td>\n",
              "      <td>3372.020000</td>\n",
              "      <td>18793.88</td>\n",
              "    </tr>\n",
              "    <tr>\n",
              "      <th>4</th>\n",
              "      <td>13/01/1994</td>\n",
              "      <td>472.470000</td>\n",
              "      <td>2142.37</td>\n",
              "      <td>3360.010000</td>\n",
              "      <td>18577.26</td>\n",
              "    </tr>\n",
              "    <tr>\n",
              "      <th>...</th>\n",
              "      <td>...</td>\n",
              "      <td>...</td>\n",
              "      <td>...</td>\n",
              "      <td>...</td>\n",
              "      <td>...</td>\n",
              "    </tr>\n",
              "    <tr>\n",
              "      <th>6264</th>\n",
              "      <td>23/01/2018</td>\n",
              "      <td>2839.130362</td>\n",
              "      <td>13559.60</td>\n",
              "      <td>7731.827774</td>\n",
              "      <td>24124.15</td>\n",
              "    </tr>\n",
              "    <tr>\n",
              "      <th>6265</th>\n",
              "      <td>24/01/2018</td>\n",
              "      <td>2837.544008</td>\n",
              "      <td>13414.74</td>\n",
              "      <td>7643.428966</td>\n",
              "      <td>23940.78</td>\n",
              "    </tr>\n",
              "    <tr>\n",
              "      <th>6266</th>\n",
              "      <td>25/01/2018</td>\n",
              "      <td>2839.253031</td>\n",
              "      <td>13298.36</td>\n",
              "      <td>7615.839954</td>\n",
              "      <td>23669.49</td>\n",
              "    </tr>\n",
              "    <tr>\n",
              "      <th>6267</th>\n",
              "      <td>26/01/2018</td>\n",
              "      <td>2872.867839</td>\n",
              "      <td>13340.17</td>\n",
              "      <td>7665.541292</td>\n",
              "      <td>23631.88</td>\n",
              "    </tr>\n",
              "    <tr>\n",
              "      <th>6268</th>\n",
              "      <td>29/01/2018</td>\n",
              "      <td>2853.528411</td>\n",
              "      <td>13324.48</td>\n",
              "      <td>7671.533300</td>\n",
              "      <td>23629.34</td>\n",
              "    </tr>\n",
              "  </tbody>\n",
              "</table>\n",
              "<p>6269 rows × 5 columns</p>\n",
              "</div>"
            ],
            "text/plain": [
              "            date          spx       dax         ftse    nikkei\n",
              "0     07/01/1994   469.900000   2224.95  3445.980000  18124.01\n",
              "1     10/01/1994   475.270000   2225.00  3440.580000  18443.44\n",
              "2     11/01/1994   474.130000   2228.10  3413.770000  18485.25\n",
              "3     12/01/1994   474.170000   2182.06  3372.020000  18793.88\n",
              "4     13/01/1994   472.470000   2142.37  3360.010000  18577.26\n",
              "...          ...          ...       ...          ...       ...\n",
              "6264  23/01/2018  2839.130362  13559.60  7731.827774  24124.15\n",
              "6265  24/01/2018  2837.544008  13414.74  7643.428966  23940.78\n",
              "6266  25/01/2018  2839.253031  13298.36  7615.839954  23669.49\n",
              "6267  26/01/2018  2872.867839  13340.17  7665.541292  23631.88\n",
              "6268  29/01/2018  2853.528411  13324.48  7671.533300  23629.34\n",
              "\n",
              "[6269 rows x 5 columns]"
            ]
          },
          "metadata": {
            "tags": []
          },
          "execution_count": 21
        }
      ]
    },
    {
      "cell_type": "code",
      "metadata": {
        "scrolled": true,
        "id": "ZrAUBCJ3We9i",
        "colab": {
          "base_uri": "https://localhost:8080/",
          "height": 297
        },
        "outputId": "fbd95ba8-c338-4605-da03-365837c9dcef"
      },
      "source": [
        "df_comp.describe()"
      ],
      "execution_count": 22,
      "outputs": [
        {
          "output_type": "execute_result",
          "data": {
            "text/html": [
              "<div>\n",
              "<style scoped>\n",
              "    .dataframe tbody tr th:only-of-type {\n",
              "        vertical-align: middle;\n",
              "    }\n",
              "\n",
              "    .dataframe tbody tr th {\n",
              "        vertical-align: top;\n",
              "    }\n",
              "\n",
              "    .dataframe thead th {\n",
              "        text-align: right;\n",
              "    }\n",
              "</style>\n",
              "<table border=\"1\" class=\"dataframe\">\n",
              "  <thead>\n",
              "    <tr style=\"text-align: right;\">\n",
              "      <th></th>\n",
              "      <th>spx</th>\n",
              "      <th>dax</th>\n",
              "      <th>ftse</th>\n",
              "      <th>nikkei</th>\n",
              "    </tr>\n",
              "  </thead>\n",
              "  <tbody>\n",
              "    <tr>\n",
              "      <th>count</th>\n",
              "      <td>6269.000000</td>\n",
              "      <td>6269.000000</td>\n",
              "      <td>6269.000000</td>\n",
              "      <td>6269.000000</td>\n",
              "    </tr>\n",
              "    <tr>\n",
              "      <th>mean</th>\n",
              "      <td>1288.127542</td>\n",
              "      <td>6080.063363</td>\n",
              "      <td>5422.713545</td>\n",
              "      <td>14597.055700</td>\n",
              "    </tr>\n",
              "    <tr>\n",
              "      <th>std</th>\n",
              "      <td>487.586473</td>\n",
              "      <td>2754.361032</td>\n",
              "      <td>1145.572428</td>\n",
              "      <td>4043.122953</td>\n",
              "    </tr>\n",
              "    <tr>\n",
              "      <th>min</th>\n",
              "      <td>438.920000</td>\n",
              "      <td>1911.700000</td>\n",
              "      <td>2876.600000</td>\n",
              "      <td>7054.980000</td>\n",
              "    </tr>\n",
              "    <tr>\n",
              "      <th>25%</th>\n",
              "      <td>990.671905</td>\n",
              "      <td>4069.350000</td>\n",
              "      <td>4486.100000</td>\n",
              "      <td>10709.290000</td>\n",
              "    </tr>\n",
              "    <tr>\n",
              "      <th>50%</th>\n",
              "      <td>1233.420000</td>\n",
              "      <td>5773.340000</td>\n",
              "      <td>5662.430000</td>\n",
              "      <td>15028.170000</td>\n",
              "    </tr>\n",
              "    <tr>\n",
              "      <th>75%</th>\n",
              "      <td>1459.987747</td>\n",
              "      <td>7443.070000</td>\n",
              "      <td>6304.250000</td>\n",
              "      <td>17860.470000</td>\n",
              "    </tr>\n",
              "    <tr>\n",
              "      <th>max</th>\n",
              "      <td>2872.867839</td>\n",
              "      <td>13559.600000</td>\n",
              "      <td>7778.637689</td>\n",
              "      <td>24124.150000</td>\n",
              "    </tr>\n",
              "  </tbody>\n",
              "</table>\n",
              "</div>"
            ],
            "text/plain": [
              "               spx           dax         ftse        nikkei\n",
              "count  6269.000000   6269.000000  6269.000000   6269.000000\n",
              "mean   1288.127542   6080.063363  5422.713545  14597.055700\n",
              "std     487.586473   2754.361032  1145.572428   4043.122953\n",
              "min     438.920000   1911.700000  2876.600000   7054.980000\n",
              "25%     990.671905   4069.350000  4486.100000  10709.290000\n",
              "50%    1233.420000   5773.340000  5662.430000  15028.170000\n",
              "75%    1459.987747   7443.070000  6304.250000  17860.470000\n",
              "max    2872.867839  13559.600000  7778.637689  24124.150000"
            ]
          },
          "metadata": {
            "tags": []
          },
          "execution_count": 22
        }
      ]
    },
    {
      "cell_type": "code",
      "metadata": {
        "id": "SWyYZP3bWe9l"
      },
      "source": [
        "df_comp.isna()"
      ],
      "execution_count": null,
      "outputs": []
    },
    {
      "cell_type": "code",
      "metadata": {
        "id": "CUs5klc4bhga"
      },
      "source": [
        "df_comp.isna().sum()"
      ],
      "execution_count": null,
      "outputs": []
    },
    {
      "cell_type": "code",
      "metadata": {
        "id": "4gygofroWe9o"
      },
      "source": [
        "df_comp.spx.isna().sum()"
      ],
      "execution_count": null,
      "outputs": []
    },
    {
      "cell_type": "markdown",
      "metadata": {
        "id": "Qa0G2oeWWe9q"
      },
      "source": [
        "### Plotting the Data"
      ]
    },
    {
      "cell_type": "code",
      "metadata": {
        "id": "wAAq3k0fWe9r"
      },
      "source": [
        "import matplotlib.pyplot as plt"
      ],
      "execution_count": null,
      "outputs": []
    },
    {
      "cell_type": "code",
      "metadata": {
        "scrolled": false,
        "id": "Ovp4vaH0We9t"
      },
      "source": [
        "df_comp.spx.plot(figsize=(20,5), title = \"S&P500 Prices\")\n",
        "plt.show()"
      ],
      "execution_count": null,
      "outputs": []
    },
    {
      "cell_type": "code",
      "metadata": {
        "id": "2R3l-1dUWe9w"
      },
      "source": [
        "df_comp.ftse.plot(figsize=(20,5), title = \"FTSE100 Prices\")\n",
        "plt.show()"
      ],
      "execution_count": null,
      "outputs": []
    },
    {
      "cell_type": "code",
      "metadata": {
        "scrolled": false,
        "id": "5d3gqOcJWe9z"
      },
      "source": [
        "df_comp.spx.plot(figsize=(20,5), title = \"S&P500 Prices\")\n",
        "df_comp.ftse.plot(figsize=(20,5), title = \"FTSE100 Prices\")\n",
        "plt.title(\"S&P vs FTSE\")\n",
        "plt.show()"
      ],
      "execution_count": null,
      "outputs": []
    },
    {
      "cell_type": "markdown",
      "metadata": {
        "id": "-DlvG_FYWe91"
      },
      "source": [
        "### The QQ Plot"
      ]
    },
    {
      "cell_type": "code",
      "metadata": {
        "id": "Rk7JNzWiWe92"
      },
      "source": [
        "import scipy.stats"
      ],
      "execution_count": null,
      "outputs": []
    },
    {
      "cell_type": "code",
      "metadata": {
        "id": "EJ0OTP3yWe95"
      },
      "source": [
        "scipy.stats.probplot(df_comp.spx, plot =  plt)\n",
        "plt.title(\"QQ Plot\", size = 24)\n",
        "plt.show()"
      ],
      "execution_count": null,
      "outputs": []
    }
  ]
}